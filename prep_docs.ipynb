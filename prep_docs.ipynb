{
 "cells": [
  {
   "cell_type": "code",
   "execution_count": 1,
   "id": "3ad108db-d686-4811-aed9-004e61e0cb03",
   "metadata": {},
   "outputs": [],
   "source": [
    "import os\n",
    "import shutil\n",
    "\n",
    "from langchain.document_loaders import DirectoryLoader\n",
    "from langchain.text_splitter import RecursiveCharacterTextSplitter\n",
    "from langchain.vectorstores.chroma import Chroma\n",
    "from langchain.embeddings import HuggingFaceEmbeddings"
   ]
  },
  {
   "cell_type": "code",
   "execution_count": 2,
   "id": "88bb865a-bc5b-4622-a9f4-d4242b3e7916",
   "metadata": {},
   "outputs": [],
   "source": [
    "EMBEDDING_MODEL = 'sentence-transformers/all-mpnet-base-v2'\n",
    "CHROMA_PATH = \"chroma\"\n",
    "DATA_PATH = \"documents/books\""
   ]
  },
  {
   "cell_type": "code",
   "execution_count": 3,
   "id": "ad4c0b0b-d14c-46b6-871e-32c11928722b",
   "metadata": {},
   "outputs": [],
   "source": [
    "loader = DirectoryLoader(DATA_PATH, glob='*.txt')\n",
    "docs = loader.load()"
   ]
  },
  {
   "cell_type": "code",
   "execution_count": 4,
   "id": "0f5cbad8-5a3b-44b4-b241-ac12c3553fc8",
   "metadata": {},
   "outputs": [
    {
     "data": {
      "text/plain": [
       "8"
      ]
     },
     "execution_count": 4,
     "metadata": {},
     "output_type": "execute_result"
    }
   ],
   "source": [
    "len(docs)"
   ]
  },
  {
   "cell_type": "code",
   "execution_count": 5,
   "id": "8a5856cd-1b91-4c23-add3-9d15d593e430",
   "metadata": {},
   "outputs": [],
   "source": [
    "text_splitter = RecursiveCharacterTextSplitter(\n",
    "    chunk_size=2000,\n",
    "    chunk_overlap=100,\n",
    "    length_function=len,\n",
    "    add_start_index=True,\n",
    ")\n",
    "chunks = text_splitter.split_documents(docs)"
   ]
  },
  {
   "cell_type": "code",
   "execution_count": 6,
   "id": "1a6cc48d-781c-4b19-843f-799c19c0f0a8",
   "metadata": {},
   "outputs": [
    {
     "data": {
      "text/plain": [
       "7042"
      ]
     },
     "execution_count": 6,
     "metadata": {},
     "output_type": "execute_result"
    }
   ],
   "source": [
    "len(chunks)"
   ]
  },
  {
   "cell_type": "code",
   "execution_count": 7,
   "id": "ae0b1a0c-70d8-4ada-9f39-02741a51e182",
   "metadata": {},
   "outputs": [
    {
     "data": {
      "text/plain": [
       "Document(page_content='Thus go they over through the umber’d wave, And ever they on the opposing bank Be landed, on this side another throng Still gathers. “Son,” thus spake the courteous guide, “Those, who die subject to the wrath of God, All here together come from every clime, And to o’erpass the river are not loth: For so heaven’s justice goads them on, that fear Is turn’d into desire. Hence ne’er hath past Good spirit. If of thee Charon complain, Now mayst thou know the import of his words.”\\n\\nThis said, the gloomy region trembling shook So terribly, that yet with clammy dews Fear chills my brow. The sad earth gave a blast, That, lightening, shot forth a vermilion flame, Which all my senses conquer’d quite, and I Down dropp’d, as one with sudden slumber seiz’d.\\n\\nCANTO IV\\n\\nBroke the deep slumber in my brain a crash Of heavy thunder, that I shook myself, As one by main force rous’d. Risen upright, My rested eyes I mov’d around, and search’d With fixed ken to know what place it was, Wherein I stood. For certain on the brink I found me of the lamentable vale, The dread abyss, that joins a thund’rous sound Of plaints innumerable. Dark and deep, And thick with clouds o’erspread, mine eye in vain Explor’d its bottom, nor could aught discern.\\n\\n“Now let us to the blind world there beneath Descend;” the bard began all pale of look: “I go the first, and thou shalt follow next.”\\n\\nThen I his alter’d hue perceiving, thus: “How may I speed, if thou yieldest to dread, Who still art wont to comfort me in doubt?”', metadata={'source': 'documents/books/divinecomedy.txt', 'start_index': 18744})"
      ]
     },
     "execution_count": 7,
     "metadata": {},
     "output_type": "execute_result"
    }
   ],
   "source": [
    "chunks[10]"
   ]
  },
  {
   "cell_type": "code",
   "execution_count": 8,
   "id": "7f846e50-0ffa-482b-bc5e-f1b3866e7181",
   "metadata": {},
   "outputs": [],
   "source": [
    "if not os.path.exists(CHROMA_PATH):\n",
    "    embeddings = HuggingFaceEmbeddings(model_name=EMBEDDING_MODEL)\n",
    "    db = Chroma.from_documents(\n",
    "        chunks, embeddings, persist_directory=CHROMA_PATH\n",
    "    )\n",
    "    db.persist()"
   ]
  },
  {
   "cell_type": "code",
   "execution_count": null,
   "id": "19469f0c-0ff9-4b92-9bc7-36cfea32f8d2",
   "metadata": {},
   "outputs": [],
   "source": []
  }
 ],
 "metadata": {
  "kernelspec": {
   "display_name": "Python 3 (ipykernel)",
   "language": "python",
   "name": "python3"
  },
  "language_info": {
   "codemirror_mode": {
    "name": "ipython",
    "version": 3
   },
   "file_extension": ".py",
   "mimetype": "text/x-python",
   "name": "python",
   "nbconvert_exporter": "python",
   "pygments_lexer": "ipython3",
   "version": "3.12.2"
  }
 },
 "nbformat": 4,
 "nbformat_minor": 5
}
