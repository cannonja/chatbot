{
 "cells": [
  {
   "cell_type": "code",
   "execution_count": 1,
   "id": "3ad108db-d686-4811-aed9-004e61e0cb03",
   "metadata": {},
   "outputs": [],
   "source": [
    "import os\n",
    "import shutil\n",
    "\n",
    "import torch\n",
    "from torch import cuda, bfloat16\n",
    "import transformers\n",
    "from transformers import AutoTokenizer\n",
    "\n",
    "from langchain.document_loaders import DirectoryLoader\n",
    "from langchain.text_splitter import RecursiveCharacterTextSplitter\n",
    "from langchain.vectorstores.chroma import Chroma\n",
    "from langchain.llms import HuggingFacePipeline\n",
    "from langchain.chains import RetrievalQA\n",
    "from langchain.embeddings import HuggingFaceEmbeddings"
   ]
  },
  {
   "cell_type": "code",
   "execution_count": 2,
   "id": "88bb865a-bc5b-4622-a9f4-d4242b3e7916",
   "metadata": {},
   "outputs": [],
   "source": [
    "EMBEDDING_MODEL = 'sentence-transformers/all-mpnet-base-v2'\n",
    "LLM_MODEL = 'meta-llama/Llama-2-7b-chat-hf'\n",
    "CHROMA_PATH = \"chroma\""
   ]
  },
  {
   "cell_type": "markdown",
   "id": "2789ca11-3203-43dc-ab6b-eed2ef255435",
   "metadata": {},
   "source": [
    "## Load LLM"
   ]
  },
  {
   "cell_type": "code",
   "execution_count": 3,
   "id": "b5b10a02-a5e9-4504-953d-5d392922ad03",
   "metadata": {},
   "outputs": [
    {
     "data": {
      "application/vnd.jupyter.widget-view+json": {
       "model_id": "12b8197f630641dbbebeb68e46b8b054",
       "version_major": 2,
       "version_minor": 0
      },
      "text/plain": [
       "Loading checkpoint shards:   0%|          | 0/2 [00:00<?, ?it/s]"
      ]
     },
     "metadata": {},
     "output_type": "display_data"
    }
   ],
   "source": [
    "model_id = 'meta-llama/Llama-2-7b-chat-hf'\n",
    "\n",
    "device = f'cuda:{cuda.current_device()}' if cuda.is_available() else 'cpu'\n",
    "\n",
    "model_config = transformers.AutoConfig.from_pretrained(LLM_MODEL)\n",
    "model = transformers.AutoModelForCausalLM.from_pretrained(\n",
    "    LLM_MODEL,\n",
    "    trust_remote_code=True,\n",
    "    config=model_config,\n",
    "    #quantization_config=bnb_config,\n",
    "    device_map='auto',\n",
    ")\n",
    "tokenizer = AutoTokenizer.from_pretrained(LLM_MODEL)"
   ]
  },
  {
   "cell_type": "code",
   "execution_count": 4,
   "id": "841a5582-d2b7-4998-ae43-620721f9b4ec",
   "metadata": {},
   "outputs": [],
   "source": [
    "query_pipeline = transformers.pipeline(\n",
    "        \"text-generation\",\n",
    "        model=model,\n",
    "        tokenizer=tokenizer,\n",
    "        torch_dtype=torch.float16,\n",
    "        device_map=\"auto\")\n",
    "llm = HuggingFacePipeline(pipeline=query_pipeline)"
   ]
  },
  {
   "cell_type": "code",
   "execution_count": 32,
   "id": "828b093d-8516-41e3-aa2d-a9268c7b5434",
   "metadata": {},
   "outputs": [],
   "source": [
    "def test_model(tokenizer, pipeline, prompt_to_test):\n",
    "    \"\"\"\n",
    "    Perform a query\n",
    "    print the result\n",
    "    Args:\n",
    "        tokenizer: the tokenizer\n",
    "        pipeline: the pipeline\n",
    "        prompt_to_test: the prompt\n",
    "    Returns\n",
    "        None\n",
    "    \"\"\"\n",
    "    # adapted from https://huggingface.co/blog/llama2#using-transformers\n",
    "    time_1 = time()\n",
    "    sequences = pipeline(\n",
    "        prompt_to_test,\n",
    "        do_sample=True,\n",
    "        top_k=10,\n",
    "        num_return_sequences=1,\n",
    "        eos_token_id=tokenizer.eos_token_id,\n",
    "        max_length=200,)\n",
    "    time_2 = time()\n",
    "    print(f\"Test inference: {round(time_2-time_1, 3)} sec.\")\n",
    "    for seq in sequences:\n",
    "        print(f\"Result: {seq['generated_text']}\")"
   ]
  },
  {
   "cell_type": "markdown",
   "id": "da546349-92b7-4ef0-a4d7-a65ab14560d1",
   "metadata": {},
   "source": [
    "## Init vector DB"
   ]
  },
  {
   "cell_type": "code",
   "execution_count": 5,
   "id": "d84d6682-d178-4db9-9cb8-27146844ebd2",
   "metadata": {},
   "outputs": [],
   "source": [
    "embeddings = HuggingFaceEmbeddings(model_name=EMBEDDING_MODEL)\n",
    "db = Chroma(embedding_function=embeddings, persist_directory=CHROMA_PATH)"
   ]
  },
  {
   "cell_type": "code",
   "execution_count": 6,
   "id": "19469f0c-0ff9-4b92-9bc7-36cfea32f8d2",
   "metadata": {
    "collapsed": true,
    "jupyter": {
     "outputs_hidden": true
    }
   },
   "outputs": [
    {
     "data": {
      "text/plain": [
       "[Document(page_content='ROMEO. [_Aside._] Shall I hear more, or shall I speak at this?\\n\\nJULIET. ’Tis but thy name that is my enemy; Thou art thyself, though not a Montague. What’s Montague? It is nor hand nor foot, Nor arm, nor face, nor any other part Belonging to a man. O be some other name. What’s in a name? That which we call a rose By any other name would smell as sweet; So Romeo would, were he not Romeo call’d, Retain that dear perfection which he owes Without that title. Romeo, doff thy name, And for thy name, which is no part of thee, Take all myself.\\n\\nROMEO. I take thee at thy word. Call me but love, and I’ll be new baptis’d; Henceforth I never will be Romeo.\\n\\nJULIET. What man art thou that, thus bescreen’d in night So stumblest on my counsel?\\n\\nROMEO. By a name I know not how to tell thee who I am: My name, dear saint, is hateful to myself, Because it is an enemy to thee. Had I it written, I would tear the word.\\n\\nJULIET. My ears have yet not drunk a hundred words Of thy tongue’s utterance, yet I know the sound. Art thou not Romeo, and a Montague?\\n\\nROMEO. Neither, fair maid, if either thee dislike.\\n\\nJULIET. How cam’st thou hither, tell me, and wherefore? The orchard walls are high and hard to climb, And the place death, considering who thou art, If any of my kinsmen find thee here.\\n\\nROMEO. With love’s light wings did I o’erperch these walls, For stony limits cannot hold love out, And what love can do, that dares love attempt: Therefore thy kinsmen are no stop to me.\\n\\nJULIET. If they do see thee, they will murder thee.\\n\\nROMEO. Alack, there lies more peril in thine eye Than twenty of their swords. Look thou but sweet, And I am proof against their enmity.\\n\\nJULIET. I would not for the world they saw thee here.\\n\\nROMEO. I have night’s cloak to hide me from their eyes, And but thou love me, let them find me here. My life were better ended by their hate Than death prorogued, wanting of thy love.\\n\\nJULIET. By whose direction found’st thou out this place?', metadata={'source': 'documents/books/shakespeare.txt', 'start_index': 3953709}),\n",
       " Document(page_content='JULIET. By whose direction found’st thou out this place?\\n\\nROMEO. By love, that first did prompt me to enquire; He lent me counsel, and I lent him eyes. I am no pilot; yet wert thou as far As that vast shore wash’d with the farthest sea, I should adventure for such merchandise.\\n\\nJULIET. Thou knowest the mask of night is on my face, Else would a maiden blush bepaint my cheek For that which thou hast heard me speak tonight. Fain would I dwell on form, fain, fain deny What I have spoke; but farewell compliment. Dost thou love me? I know thou wilt say Ay, And I will take thy word. Yet, if thou swear’st, Thou mayst prove false. At lovers’ perjuries, They say Jove laughs. O gentle Romeo, If thou dost love, pronounce it faithfully. Or if thou thinkest I am too quickly won, I’ll frown and be perverse, and say thee nay, So thou wilt woo. But else, not for the world. In truth, fair Montague, I am too fond; And therefore thou mayst think my ’haviour light: But trust me, gentleman, I’ll prove more true Than those that have more cunning to be strange. I should have been more strange, I must confess, But that thou overheard’st, ere I was ’ware, My true-love passion; therefore pardon me, And not impute this yielding to light love, Which the dark night hath so discovered.\\n\\nROMEO. Lady, by yonder blessed moon I vow, That tips with silver all these fruit-tree tops,—\\n\\nJULIET. O swear not by the moon, th’inconstant moon, That monthly changes in her circled orb, Lest that thy love prove likewise variable.\\n\\nROMEO. What shall I swear by?\\n\\nJULIET. Do not swear at all. Or if thou wilt, swear by thy gracious self, Which is the god of my idolatry, And I’ll believe thee.\\n\\nROMEO. If my heart’s dear love,—', metadata={'source': 'documents/books/shakespeare.txt', 'start_index': 3955615}),\n",
       " Document(page_content='ROMEO. As if that name, Shot from the deadly level of a gun, Did murder her, as that name’s cursed hand Murder’d her kinsman. O, tell me, Friar, tell me, In what vile part of this anatomy Doth my name lodge? Tell me, that I may sack The hateful mansion.\\n\\n[_Drawing his sword._]\\n\\nFRIAR LAWRENCE. Hold thy desperate hand. Art thou a man? Thy form cries out thou art. Thy tears are womanish, thy wild acts denote The unreasonable fury of a beast. Unseemly woman in a seeming man, And ill-beseeming beast in seeming both! Thou hast amaz’d me. By my holy order, I thought thy disposition better temper’d. Hast thou slain Tybalt? Wilt thou slay thyself? And slay thy lady, that in thy life lives, By doing damned hate upon thyself? Why rail’st thou on thy birth, the heaven and earth? Since birth, and heaven and earth, all three do meet In thee at once; which thou at once wouldst lose. Fie, fie, thou sham’st thy shape, thy love, thy wit, Which, like a usurer, abound’st in all, And usest none in that true use indeed Which should bedeck thy shape, thy love, thy wit. Thy noble shape is but a form of wax, Digressing from the valour of a man; Thy dear love sworn but hollow perjury, Killing that love which thou hast vow’d to cherish; Thy wit, that ornament to shape and love, Misshapen in the conduct of them both, Like powder in a skilless soldier’s flask, Is set afire by thine own ignorance, And thou dismember’d with thine own defence. What, rouse thee, man. Thy Juliet is alive, For whose dear sake thou wast but lately dead. There art thou happy. Tybalt would kill thee, But thou slew’st Tybalt; there art thou happy. The law that threaten’d death becomes thy friend, And turns it to exile; there art thou happy.', metadata={'source': 'documents/books/shakespeare.txt', 'start_index': 4000773}),\n",
       " Document(page_content='Enter Romeo.\\n\\nTYBALT. Well, peace be with you, sir, here comes my man.\\n\\nMERCUTIO. But I’ll be hanged, sir, if he wear your livery. Marry, go before to field, he’ll be your follower; Your worship in that sense may call him man.\\n\\nTYBALT. Romeo, the love I bear thee can afford No better term than this: Thou art a villain.\\n\\nROMEO. Tybalt, the reason that I have to love thee Doth much excuse the appertaining rage To such a greeting. Villain am I none; Therefore farewell; I see thou know’st me not.\\n\\nTYBALT. Boy, this shall not excuse the injuries That thou hast done me, therefore turn and draw.\\n\\nROMEO. I do protest I never injur’d thee, But love thee better than thou canst devise Till thou shalt know the reason of my love. And so good Capulet, which name I tender As dearly as mine own, be satisfied.\\n\\nMERCUTIO. O calm, dishonourable, vile submission! [_Draws._] Alla stoccata carries it away. Tybalt, you rat-catcher, will you walk?\\n\\nTYBALT. What wouldst thou have with me?\\n\\nMERCUTIO. Good King of Cats, nothing but one of your nine lives; that I mean to make bold withal, and, as you shall use me hereafter, dry-beat the rest of the eight. Will you pluck your sword out of his pilcher by the ears? Make haste, lest mine be about your ears ere it be out.\\n\\nTYBALT. [_Drawing._] I am for you.\\n\\nROMEO. Gentle Mercutio, put thy rapier up.\\n\\nMERCUTIO.\\n\\nCome, sir, your passado.\\n\\n[_They fight._]\\n\\nROMEO. Draw, Benvolio; beat down their weapons. Gentlemen, for shame, forbear this outrage, Tybalt, Mercutio, the Prince expressly hath Forbid this bandying in Verona streets. Hold, Tybalt! Good Mercutio!\\n\\n[_Exeunt Tybalt with his Partizans._]\\n\\nMERCUTIO. I am hurt. A plague o’ both your houses. I am sped. Is he gone, and hath nothing?\\n\\nBENVOLIO.\\n\\nWhat, art thou hurt?\\n\\nMERCUTIO. Ay, ay, a scratch, a scratch. Marry, ’tis enough. Where is my page? Go villain, fetch a surgeon.\\n\\n[_Exit Page._]\\n\\nROMEO. Courage, man; the hurt cannot be much.', metadata={'source': 'documents/books/shakespeare.txt', 'start_index': 3982712})]"
      ]
     },
     "execution_count": 6,
     "metadata": {},
     "output_type": "execute_result"
    }
   ],
   "source": [
    "db.similarity_search(\"Romeo\")"
   ]
  },
  {
   "cell_type": "markdown",
   "id": "affbcc31-f828-4a9f-81c5-90e6071a3090",
   "metadata": {},
   "source": [
    "## Build RAG pipeline"
   ]
  },
  {
   "cell_type": "code",
   "execution_count": 7,
   "id": "73d1e9f1-b688-49ea-8c07-71be7ba1b93a",
   "metadata": {},
   "outputs": [],
   "source": [
    "retriever = db.as_retriever()\n",
    "\n",
    "qa = RetrievalQA.from_chain_type(\n",
    "    llm=llm, \n",
    "    chain_type=\"stuff\", \n",
    "    retriever=retriever, \n",
    "    verbose=False\n",
    ")"
   ]
  },
  {
   "cell_type": "markdown",
   "id": "dbfdcee8-12d8-466d-befb-1268ef571d93",
   "metadata": {},
   "source": [
    "## Test"
   ]
  },
  {
   "cell_type": "code",
   "execution_count": 27,
   "id": "9925e90b-1bc9-4ef0-bfb4-766b8b962507",
   "metadata": {},
   "outputs": [],
   "source": [
    "query = '''In the Inferno, what three creatures did Dante see in the wood before the gates of hell?'''"
   ]
  },
  {
   "cell_type": "code",
   "execution_count": 10,
   "id": "a9c995fe-b6df-4343-bd84-83d702fb19e5",
   "metadata": {},
   "outputs": [
    {
     "name": "stdout",
     "output_type": "stream",
     "text": [
      "Use the following pieces of context to answer the question at the end. If you don't know the answer, just say that you don't know, don't try to make up an answer.\n",
      "\n",
      "Dantès did not answer; he feared that the emotion of his voice would betray him. The jailer went away shaking his head. Night came; Dantès hoped that his neighbor would profit by the silence to address him, but he was mistaken. The next morning, however, just as he removed his bed from the wall, he heard three knocks; he threw himself on his knees.\n",
      "\n",
      "“Is it you?” said he; “I am here.”\n",
      "\n",
      "“Is your jailer gone?”\n",
      "\n",
      "“Yes,” said Dantès; “he will not return until the evening; so that we have twelve hours before us.”\n",
      "\n",
      "“I can work, then?” said the voice.\n",
      "\n",
      "“Oh, yes, yes; this instant, I entreat you.”\n",
      "\n",
      "In a moment that part of the floor on which Dantès was resting his two hands, as he knelt with his head in the opening, suddenly gave way; he drew back smartly, while a mass of stones and earth disappeared in a hole that opened beneath the aperture he himself had formed. Then from the bottom of this passage, the depth of which it was impossible to measure, he saw appear, first the head, then the shoulders, and lastly the body of a man, who sprang lightly into his cell.\n",
      "\n",
      "0197m\n",
      "\n",
      "Chapter 16. A Learned Italian\n",
      "\n",
      "Seizing in his arms the friend so long and ardently desired, Dantès almost carried him towards the window, in order to obtain a better view of his features by the aid of the imperfect light that struggled through the grating.\n",
      "\n",
      "He was a man of small stature, with hair blanched rather by suffering and sorrow than by age. He had a deep-set, penetrating eye, almost buried beneath the thick gray eyebrow, and a long (and still black) beard reaching down to his breast. His thin face, deeply furrowed by care, and the bold outline of his strongly marked features, betokened a man more accustomed to exercise his mental faculties than his physical strength. Large drops of perspiration were now standing on his brow, while the garments that hung about him were so ragged that one could only guess at the pattern upon which they had originally been fashioned.\n",
      "\n",
      "Chapter 25. The Unknown\n",
      "\n",
      "Day, for which Dantès had so eagerly and impatiently waited with open eyes, again dawned. With the first light Dantès resumed his search. Again he climbed the rocky height he had ascended the previous evening, and strained his view to catch every peculiarity of the landscape; but it wore the same wild, barren aspect when seen by the rays of the morning sun which it had done when surveyed by the fading glimmer of eve.\n",
      "\n",
      "Descending into the grotto, he lifted the stone, filled his pockets with gems, put the box together as well and securely as he could, sprinkled fresh sand over the spot from which it had been taken, and then carefully trod down the earth to give it everywhere a uniform appearance; then, quitting the grotto, he replaced the stone, heaping on it broken masses of rocks and rough fragments of crumbling granite, filling the interstices with earth, into which he deftly inserted rapidly growing plants, such as the wild myrtle and flowering thorn, then carefully watering these new plantations, he scrupulously effaced every trace of footsteps, leaving the approach to the cavern as savage-looking and untrodden as he had found it. This done, he impatiently awaited the return of his companions. To wait at Monte Cristo for the purpose of watching like a dragon over the almost incalculable riches that had thus fallen into his possession satisfied not the cravings of his heart, which yearned to return to dwell among mankind, and to assume the rank, power, and influence which are always accorded to wealth—that first and greatest of all the forces within the grasp of man.\n",
      "\n",
      "It was there he must dig.\n",
      "\n",
      "But by some strange play of emotion, in proportion as the proofs that Faria, had not been deceived became stronger, so did his heart give way, and a feeling of discouragement stole over him. This last proof, instead of giving him fresh strength, deprived him of it; the pickaxe descended, or rather fell; he placed it on the ground, passed his hand over his brow, and remounted the stairs, alleging to himself, as an excuse, a desire to be assured that no one was watching him, but in reality because he felt that he was about to faint.\n",
      "\n",
      "The island was deserted, and the sun seemed to cover it with its fiery glance; afar off, a few small fishing boats studded the bosom of the blue ocean.\n",
      "\n",
      "Dantès had tasted nothing, but he thought not of hunger at such a moment; he hastily swallowed a few drops of rum, and again entered the cavern.\n",
      "\n",
      "The pickaxe that had seemed so heavy, was now like a feather in his grasp; he seized it, and attacked the wall. After several blows he perceived that the stones were not cemented, but had been merely placed one upon the other, and covered with stucco; he inserted the point of his pickaxe, and using the handle as a lever, with joy soon saw the stone turn as if on hinges, and fall at his feet.\n",
      "\n",
      "He had nothing more to do now, but with the iron tooth of the pickaxe to draw the stones towards him one by one. The aperture was already sufficiently large for him to enter, but by waiting, he could still cling to hope, and retard the certainty of deception. At last, after renewed hesitation, Dantès entered the second grotto.\n",
      "\n",
      "The second grotto was lower and more gloomy than the first; the air that could only enter by the newly formed opening had the mephitic smell Dantès was surprised not to find in the outer cavern. He waited in order to allow pure air to displace the foul atmosphere, and then went on.\n",
      "\n",
      "The night was one of feverish distraction, and in its progress visions, good and evil, passed through Dantès’ mind. If he closed his eyes, he saw Cardinal Spada’s letter written on the wall in characters of flame—if he slept for a moment the wildest dreams haunted his brain. He ascended into grottos paved with emeralds, with panels of rubies, and the roof glowing with diamond stalactites. Pearls fell drop by drop, as subterranean waters filter in their caves. Edmond, amazed, wonderstruck, filled his pockets with the radiant gems and then returned to daylight, when he discovered that his prizes had all changed into common pebbles. He then endeavored to re-enter the marvellous grottos, but they had suddenly receded, and now the path became a labyrinth, and then the entrance vanished, and in vain did he tax his memory for the magic and mysterious word which opened the splendid caverns of Ali Baba to the Arabian fisherman. All was useless, the treasure disappeared, and had again reverted to the genii from whom for a moment he had hoped to carry it off.\n",
      "\n",
      "The day came at length, and was almost as feverish as the night had been, but it brought reason to the aid of imagination, and Dantès was then enabled to arrange a plan which had hitherto been vague and unsettled in his brain. Night came, and with it the preparation for departure, and these preparations served to conceal Dantès’ agitation. He had by degrees assumed such authority over his companions that he was almost like a commander on board; and as his orders were always clear, distinct, and easy of execution, his comrades obeyed him with celerity and pleasure.\n",
      "\n",
      "Question: What three creatures did Dante see in the wood before the gates of hell?\n",
      "Helpful Answer: In Canto 14 of Inferno, Dante sees three creatures in the wood before the gates of hell: the lion, the leopard, and the wolf. These creatures are described as \"the three-fold beast\" and are seen as a symbol of the sin and corruption that Dante encounters in the wood.\n"
     ]
    }
   ],
   "source": [
    "result = qa.invoke(query)\n",
    "print(result['result'])"
   ]
  },
  {
   "cell_type": "code",
   "execution_count": 23,
   "id": "6c6d0854-3c8b-42ad-b118-097a94fde3c3",
   "metadata": {},
   "outputs": [
    {
     "data": {
      "text/plain": [
       "\u001b[0;31mSignature:\u001b[0m\n",
       "\u001b[0mdb\u001b[0m\u001b[0;34m.\u001b[0m\u001b[0msimilarity_search\u001b[0m\u001b[0;34m(\u001b[0m\u001b[0;34m\u001b[0m\n",
       "\u001b[0;34m\u001b[0m    \u001b[0mquery\u001b[0m\u001b[0;34m:\u001b[0m \u001b[0;34m'str'\u001b[0m\u001b[0;34m,\u001b[0m\u001b[0;34m\u001b[0m\n",
       "\u001b[0;34m\u001b[0m    \u001b[0mk\u001b[0m\u001b[0;34m:\u001b[0m \u001b[0;34m'int'\u001b[0m \u001b[0;34m=\u001b[0m \u001b[0;36m4\u001b[0m\u001b[0;34m,\u001b[0m\u001b[0;34m\u001b[0m\n",
       "\u001b[0;34m\u001b[0m    \u001b[0mfilter\u001b[0m\u001b[0;34m:\u001b[0m \u001b[0;34m'Optional[Dict[str, str]]'\u001b[0m \u001b[0;34m=\u001b[0m \u001b[0;32mNone\u001b[0m\u001b[0;34m,\u001b[0m\u001b[0;34m\u001b[0m\n",
       "\u001b[0;34m\u001b[0m    \u001b[0;34m**\u001b[0m\u001b[0mkwargs\u001b[0m\u001b[0;34m:\u001b[0m \u001b[0;34m'Any'\u001b[0m\u001b[0;34m,\u001b[0m\u001b[0;34m\u001b[0m\n",
       "\u001b[0;34m\u001b[0m\u001b[0;34m)\u001b[0m \u001b[0;34m->\u001b[0m \u001b[0;34m'List[Document]'\u001b[0m\u001b[0;34m\u001b[0m\u001b[0;34m\u001b[0m\u001b[0m\n",
       "\u001b[0;31mDocstring:\u001b[0m\n",
       "Run similarity search with Chroma.\n",
       "\n",
       "Args:\n",
       "    query (str): Query text to search for.\n",
       "    k (int): Number of results to return. Defaults to 4.\n",
       "    filter (Optional[Dict[str, str]]): Filter by metadata. Defaults to None.\n",
       "\n",
       "Returns:\n",
       "    List[Document]: List of documents most similar to the query text.\n",
       "\u001b[0;31mFile:\u001b[0m      /opt/miniconda3/envs/chatbot/lib/python3.12/site-packages/langchain_community/vectorstores/chroma.py\n",
       "\u001b[0;31mType:\u001b[0m      method"
      ]
     },
     "metadata": {},
     "output_type": "display_data"
    }
   ],
   "source": [
    "?db.similarity_search"
   ]
  },
  {
   "cell_type": "code",
   "execution_count": 28,
   "id": "b553744e-2413-4408-8e51-99f769bfb36c",
   "metadata": {},
   "outputs": [
    {
     "name": "stdout",
     "output_type": "stream",
     "text": [
      "10\n"
     ]
    }
   ],
   "source": [
    "query_results = db.similarity_search(query, k=10)\n",
    "print(len(query_results))"
   ]
  },
  {
   "cell_type": "code",
   "execution_count": 29,
   "id": "36ec6f29-744c-4e5e-b298-6dfb0ff96a67",
   "metadata": {},
   "outputs": [
    {
     "name": "stdout",
     "output_type": "stream",
     "text": [
      "documents/books/divinecomedy.txt\n",
      "documents/books/countmontecristo.txt\n",
      "documents/books/countmontecristo.txt\n",
      "documents/books/divinecomedy.txt\n",
      "documents/books/countmontecristo.txt\n",
      "documents/books/countmontecristo.txt\n",
      "documents/books/countmontecristo.txt\n",
      "documents/books/countmontecristo.txt\n",
      "documents/books/countmontecristo.txt\n",
      "documents/books/countmontecristo.txt\n"
     ]
    }
   ],
   "source": [
    "for r in query_results:\n",
    " print(r.metadata['source'])"
   ]
  },
  {
   "cell_type": "code",
   "execution_count": 31,
   "id": "3d6ccbf2-71ef-4ab8-ac71-33d3d6caa1aa",
   "metadata": {},
   "outputs": [
    {
     "data": {
      "text/plain": [
       "Document(page_content='Gives sentence, and dismisses them beneath, According as he foldeth him around: For when before him comes th’ ill fated soul, It all confesses; and that judge severe Of sins, considering what place in hell Suits the transgression, with his tail so oft Himself encircles, as degrees beneath He dooms it to descend. Before him stand Always a num’rous throng; and in his turn Each one to judgment passing, speaks, and hears His fate, thence downward to his dwelling hurl’d.\\n\\n“O thou! who to this residence of woe Approachest?” when he saw me coming, cried Minos, relinquishing his dread employ, “Look how thou enter here; beware in whom Thou place thy trust; let not the entrance broad Deceive thee to thy harm.” To him my guide: “Wherefore exclaimest? Hinder not his way By destiny appointed; so ’tis will’d Where will and power are one. Ask thou no more.”\\n\\nNow ’gin the rueful wailings to be heard. Now am I come where many a plaining voice Smites on mine ear. Into a place I came Where light was silent all. Bellowing there groan’d A noise as of a sea in tempest torn By warring winds. The stormy blast of hell With restless fury drives the spirits on Whirl’d round and dash’d amain with sore annoy.\\n\\nWhen they arrive before the ruinous sweep, There shrieks are heard, there lamentations, moans, And blasphemies ’gainst the good Power in heaven.', metadata={'source': 'documents/books/divinecomedy.txt', 'start_index': 25953})"
      ]
     },
     "execution_count": 31,
     "metadata": {},
     "output_type": "execute_result"
    }
   ],
   "source": [
    "query_results[3]"
   ]
  },
  {
   "cell_type": "code",
   "execution_count": 16,
   "id": "8c850e4a-ad5d-4d1c-9882-07605ae77816",
   "metadata": {},
   "outputs": [
    {
     "data": {
      "text/plain": [
       "Document(page_content='It was there he must dig.\\n\\nBut by some strange play of emotion, in proportion as the proofs that Faria, had not been deceived became stronger, so did his heart give way, and a feeling of discouragement stole over him. This last proof, instead of giving him fresh strength, deprived him of it; the pickaxe descended, or rather fell; he placed it on the ground, passed his hand over his brow, and remounted the stairs, alleging to himself, as an excuse, a desire to be assured that no one was watching him, but in reality because he felt that he was about to faint.\\n\\nThe island was deserted, and the sun seemed to cover it with its fiery glance; afar off, a few small fishing boats studded the bosom of the blue ocean.\\n\\nDantès had tasted nothing, but he thought not of hunger at such a moment; he hastily swallowed a few drops of rum, and again entered the cavern.\\n\\nThe pickaxe that had seemed so heavy, was now like a feather in his grasp; he seized it, and attacked the wall. After several blows he perceived that the stones were not cemented, but had been merely placed one upon the other, and covered with stucco; he inserted the point of his pickaxe, and using the handle as a lever, with joy soon saw the stone turn as if on hinges, and fall at his feet.\\n\\nHe had nothing more to do now, but with the iron tooth of the pickaxe to draw the stones towards him one by one. The aperture was already sufficiently large for him to enter, but by waiting, he could still cling to hope, and retard the certainty of deception. At last, after renewed hesitation, Dantès entered the second grotto.\\n\\nThe second grotto was lower and more gloomy than the first; the air that could only enter by the newly formed opening had the mephitic smell Dantès was surprised not to find in the outer cavern. He waited in order to allow pure air to displace the foul atmosphere, and then went on.', metadata={'source': 'documents/books/countmontecristo.txt', 'start_index': 471910})"
      ]
     },
     "execution_count": 16,
     "metadata": {},
     "output_type": "execute_result"
    }
   ],
   "source": [
    "query_results[2]"
   ]
  },
  {
   "cell_type": "code",
   "execution_count": 17,
   "id": "3bbeebcf-6a3e-4550-b804-08332659d853",
   "metadata": {},
   "outputs": [
    {
     "data": {
      "text/plain": [
       "Document(page_content='The night was one of feverish distraction, and in its progress visions, good and evil, passed through Dantès’ mind. If he closed his eyes, he saw Cardinal Spada’s letter written on the wall in characters of flame—if he slept for a moment the wildest dreams haunted his brain. He ascended into grottos paved with emeralds, with panels of rubies, and the roof glowing with diamond stalactites. Pearls fell drop by drop, as subterranean waters filter in their caves. Edmond, amazed, wonderstruck, filled his pockets with the radiant gems and then returned to daylight, when he discovered that his prizes had all changed into common pebbles. He then endeavored to re-enter the marvellous grottos, but they had suddenly receded, and now the path became a labyrinth, and then the entrance vanished, and in vain did he tax his memory for the magic and mysterious word which opened the splendid caverns of Ali Baba to the Arabian fisherman. All was useless, the treasure disappeared, and had again reverted to the genii from whom for a moment he had hoped to carry it off.\\n\\nThe day came at length, and was almost as feverish as the night had been, but it brought reason to the aid of imagination, and Dantès was then enabled to arrange a plan which had hitherto been vague and unsettled in his brain. Night came, and with it the preparation for departure, and these preparations served to conceal Dantès’ agitation. He had by degrees assumed such authority over his companions that he was almost like a commander on board; and as his orders were always clear, distinct, and easy of execution, his comrades obeyed him with celerity and pleasure.', metadata={'source': 'documents/books/countmontecristo.txt', 'start_index': 444760})"
      ]
     },
     "execution_count": 17,
     "metadata": {},
     "output_type": "execute_result"
    }
   ],
   "source": [
    "query_results[3]"
   ]
  },
  {
   "cell_type": "code",
   "execution_count": null,
   "id": "3796baa7-9d71-4dae-8d44-b02b4c2eaf41",
   "metadata": {},
   "outputs": [],
   "source": []
  }
 ],
 "metadata": {
  "kernelspec": {
   "display_name": "Python 3 (ipykernel)",
   "language": "python",
   "name": "python3"
  },
  "language_info": {
   "codemirror_mode": {
    "name": "ipython",
    "version": 3
   },
   "file_extension": ".py",
   "mimetype": "text/x-python",
   "name": "python",
   "nbconvert_exporter": "python",
   "pygments_lexer": "ipython3",
   "version": "3.12.2"
  }
 },
 "nbformat": 4,
 "nbformat_minor": 5
}
